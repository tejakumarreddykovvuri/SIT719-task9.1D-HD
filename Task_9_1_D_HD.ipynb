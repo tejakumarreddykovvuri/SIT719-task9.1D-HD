{
  "nbformat": 4,
  "nbformat_minor": 0,
  "metadata": {
    "colab": {
      "name": "Task 9.1 D/HD.ipynb",
      "provenance": [],
      "collapsed_sections": []
    },
    "kernelspec": {
      "name": "python3",
      "display_name": "Python 3"
    },
    "language_info": {
      "name": "python"
    }
  },
  "cells": [
    {
      "cell_type": "code",
      "metadata": {
        "colab": {
          "base_uri": "https://localhost:8080/"
        },
        "id": "T5fHaZ5hxq4M",
        "outputId": "04e4b8ba-1b00-4171-de2a-2c41a6455cbf"
      },
      "source": [
        "from google.colab import drive\n",
        "drive.mount('gdrive')"
      ],
      "execution_count": 57,
      "outputs": [
        {
          "output_type": "stream",
          "text": [
            "Drive already mounted at gdrive; to attempt to forcibly remount, call drive.mount(\"gdrive\", force_remount=True).\n"
          ],
          "name": "stdout"
        }
      ]
    },
    {
      "cell_type": "code",
      "metadata": {
        "id": "WGakC_kHxw5U"
      },
      "source": [
        "import pandas as pd\n",
        "import numpy as np"
      ],
      "execution_count": 58,
      "outputs": []
    },
    {
      "cell_type": "code",
      "metadata": {
        "id": "HJ3Bd3l4x1Qq"
      },
      "source": [
        "dataframe = pd.read_csv('gdrive/MyDrive/gowalla/Gowalla_totalCheckins.txt', delimiter = '\\t', header = None)"
      ],
      "execution_count": 59,
      "outputs": []
    },
    {
      "cell_type": "code",
      "metadata": {
        "colab": {
          "base_uri": "https://localhost:8080/"
        },
        "id": "6zddySo5ype9",
        "outputId": "fe6c050b-343b-469f-b5c3-38985a2a930f"
      },
      "source": [
        "dataframe.count()"
      ],
      "execution_count": 60,
      "outputs": [
        {
          "output_type": "execute_result",
          "data": {
            "text/plain": [
              "0    6442892\n",
              "1    6442892\n",
              "2    6442892\n",
              "3    6442892\n",
              "4    6442892\n",
              "dtype: int64"
            ]
          },
          "metadata": {
            "tags": []
          },
          "execution_count": 60
        }
      ]
    },
    {
      "cell_type": "code",
      "metadata": {
        "colab": {
          "base_uri": "https://localhost:8080/",
          "height": 204
        },
        "id": "V-CsmJxWzBdo",
        "outputId": "b4edebc8-a078-4cea-95d0-766ee9a276fa"
      },
      "source": [
        "dataframe.head()"
      ],
      "execution_count": 61,
      "outputs": [
        {
          "output_type": "execute_result",
          "data": {
            "text/html": [
              "<div>\n",
              "<style scoped>\n",
              "    .dataframe tbody tr th:only-of-type {\n",
              "        vertical-align: middle;\n",
              "    }\n",
              "\n",
              "    .dataframe tbody tr th {\n",
              "        vertical-align: top;\n",
              "    }\n",
              "\n",
              "    .dataframe thead th {\n",
              "        text-align: right;\n",
              "    }\n",
              "</style>\n",
              "<table border=\"1\" class=\"dataframe\">\n",
              "  <thead>\n",
              "    <tr style=\"text-align: right;\">\n",
              "      <th></th>\n",
              "      <th>0</th>\n",
              "      <th>1</th>\n",
              "      <th>2</th>\n",
              "      <th>3</th>\n",
              "      <th>4</th>\n",
              "    </tr>\n",
              "  </thead>\n",
              "  <tbody>\n",
              "    <tr>\n",
              "      <th>0</th>\n",
              "      <td>0</td>\n",
              "      <td>2010-10-19T23:55:27Z</td>\n",
              "      <td>30.235909</td>\n",
              "      <td>-97.795140</td>\n",
              "      <td>22847</td>\n",
              "    </tr>\n",
              "    <tr>\n",
              "      <th>1</th>\n",
              "      <td>0</td>\n",
              "      <td>2010-10-18T22:17:43Z</td>\n",
              "      <td>30.269103</td>\n",
              "      <td>-97.749395</td>\n",
              "      <td>420315</td>\n",
              "    </tr>\n",
              "    <tr>\n",
              "      <th>2</th>\n",
              "      <td>0</td>\n",
              "      <td>2010-10-17T23:42:03Z</td>\n",
              "      <td>30.255731</td>\n",
              "      <td>-97.763386</td>\n",
              "      <td>316637</td>\n",
              "    </tr>\n",
              "    <tr>\n",
              "      <th>3</th>\n",
              "      <td>0</td>\n",
              "      <td>2010-10-17T19:26:05Z</td>\n",
              "      <td>30.263418</td>\n",
              "      <td>-97.757597</td>\n",
              "      <td>16516</td>\n",
              "    </tr>\n",
              "    <tr>\n",
              "      <th>4</th>\n",
              "      <td>0</td>\n",
              "      <td>2010-10-16T18:50:42Z</td>\n",
              "      <td>30.274292</td>\n",
              "      <td>-97.740523</td>\n",
              "      <td>5535878</td>\n",
              "    </tr>\n",
              "  </tbody>\n",
              "</table>\n",
              "</div>"
            ],
            "text/plain": [
              "   0                     1          2          3        4\n",
              "0  0  2010-10-19T23:55:27Z  30.235909 -97.795140    22847\n",
              "1  0  2010-10-18T22:17:43Z  30.269103 -97.749395   420315\n",
              "2  0  2010-10-17T23:42:03Z  30.255731 -97.763386   316637\n",
              "3  0  2010-10-17T19:26:05Z  30.263418 -97.757597    16516\n",
              "4  0  2010-10-16T18:50:42Z  30.274292 -97.740523  5535878"
            ]
          },
          "metadata": {
            "tags": []
          },
          "execution_count": 61
        }
      ]
    },
    {
      "cell_type": "code",
      "metadata": {
        "id": "kOSS0EF2c2Ei"
      },
      "source": [
        "dataframe = dataframe.drop(columns= 1)"
      ],
      "execution_count": 62,
      "outputs": []
    },
    {
      "cell_type": "code",
      "metadata": {
        "colab": {
          "base_uri": "https://localhost:8080/",
          "height": 419
        },
        "id": "-s4QsmdXvEUp",
        "outputId": "c7505381-8641-41a8-f861-178bef207090"
      },
      "source": [
        "dataframe.columns = ['User', 'Latitude', 'Longitude', 'Location id']\n",
        "dataframe"
      ],
      "execution_count": 63,
      "outputs": [
        {
          "output_type": "execute_result",
          "data": {
            "text/html": [
              "<div>\n",
              "<style scoped>\n",
              "    .dataframe tbody tr th:only-of-type {\n",
              "        vertical-align: middle;\n",
              "    }\n",
              "\n",
              "    .dataframe tbody tr th {\n",
              "        vertical-align: top;\n",
              "    }\n",
              "\n",
              "    .dataframe thead th {\n",
              "        text-align: right;\n",
              "    }\n",
              "</style>\n",
              "<table border=\"1\" class=\"dataframe\">\n",
              "  <thead>\n",
              "    <tr style=\"text-align: right;\">\n",
              "      <th></th>\n",
              "      <th>User</th>\n",
              "      <th>Latitude</th>\n",
              "      <th>Longitude</th>\n",
              "      <th>Location id</th>\n",
              "    </tr>\n",
              "  </thead>\n",
              "  <tbody>\n",
              "    <tr>\n",
              "      <th>0</th>\n",
              "      <td>0</td>\n",
              "      <td>30.235909</td>\n",
              "      <td>-97.795140</td>\n",
              "      <td>22847</td>\n",
              "    </tr>\n",
              "    <tr>\n",
              "      <th>1</th>\n",
              "      <td>0</td>\n",
              "      <td>30.269103</td>\n",
              "      <td>-97.749395</td>\n",
              "      <td>420315</td>\n",
              "    </tr>\n",
              "    <tr>\n",
              "      <th>2</th>\n",
              "      <td>0</td>\n",
              "      <td>30.255731</td>\n",
              "      <td>-97.763386</td>\n",
              "      <td>316637</td>\n",
              "    </tr>\n",
              "    <tr>\n",
              "      <th>3</th>\n",
              "      <td>0</td>\n",
              "      <td>30.263418</td>\n",
              "      <td>-97.757597</td>\n",
              "      <td>16516</td>\n",
              "    </tr>\n",
              "    <tr>\n",
              "      <th>4</th>\n",
              "      <td>0</td>\n",
              "      <td>30.274292</td>\n",
              "      <td>-97.740523</td>\n",
              "      <td>5535878</td>\n",
              "    </tr>\n",
              "    <tr>\n",
              "      <th>...</th>\n",
              "      <td>...</td>\n",
              "      <td>...</td>\n",
              "      <td>...</td>\n",
              "      <td>...</td>\n",
              "    </tr>\n",
              "    <tr>\n",
              "      <th>6442887</th>\n",
              "      <td>196578</td>\n",
              "      <td>51.742988</td>\n",
              "      <td>-0.488065</td>\n",
              "      <td>906885</td>\n",
              "    </tr>\n",
              "    <tr>\n",
              "      <th>6442888</th>\n",
              "      <td>196578</td>\n",
              "      <td>51.746492</td>\n",
              "      <td>-0.490780</td>\n",
              "      <td>965121</td>\n",
              "    </tr>\n",
              "    <tr>\n",
              "      <th>6442889</th>\n",
              "      <td>196578</td>\n",
              "      <td>51.741916</td>\n",
              "      <td>-0.496729</td>\n",
              "      <td>1174322</td>\n",
              "    </tr>\n",
              "    <tr>\n",
              "      <th>6442890</th>\n",
              "      <td>196585</td>\n",
              "      <td>50.105516</td>\n",
              "      <td>8.571525</td>\n",
              "      <td>471724</td>\n",
              "    </tr>\n",
              "    <tr>\n",
              "      <th>6442891</th>\n",
              "      <td>196585</td>\n",
              "      <td>50.027812</td>\n",
              "      <td>8.785098</td>\n",
              "      <td>4555073</td>\n",
              "    </tr>\n",
              "  </tbody>\n",
              "</table>\n",
              "<p>6442892 rows × 4 columns</p>\n",
              "</div>"
            ],
            "text/plain": [
              "           User   Latitude  Longitude  Location id\n",
              "0             0  30.235909 -97.795140        22847\n",
              "1             0  30.269103 -97.749395       420315\n",
              "2             0  30.255731 -97.763386       316637\n",
              "3             0  30.263418 -97.757597        16516\n",
              "4             0  30.274292 -97.740523      5535878\n",
              "...         ...        ...        ...          ...\n",
              "6442887  196578  51.742988  -0.488065       906885\n",
              "6442888  196578  51.746492  -0.490780       965121\n",
              "6442889  196578  51.741916  -0.496729      1174322\n",
              "6442890  196585  50.105516   8.571525       471724\n",
              "6442891  196585  50.027812   8.785098      4555073\n",
              "\n",
              "[6442892 rows x 4 columns]"
            ]
          },
          "metadata": {
            "tags": []
          },
          "execution_count": 63
        }
      ]
    },
    {
      "cell_type": "code",
      "metadata": {
        "colab": {
          "base_uri": "https://localhost:8080/",
          "height": 419
        },
        "id": "UbyUJdy00VZX",
        "outputId": "af7282a0-ea0c-40ff-e29e-4809d8a2e3f3"
      },
      "source": [
        "df = dataframe.drop_duplicates('Location id')\n",
        "df"
      ],
      "execution_count": 64,
      "outputs": [
        {
          "output_type": "execute_result",
          "data": {
            "text/html": [
              "<div>\n",
              "<style scoped>\n",
              "    .dataframe tbody tr th:only-of-type {\n",
              "        vertical-align: middle;\n",
              "    }\n",
              "\n",
              "    .dataframe tbody tr th {\n",
              "        vertical-align: top;\n",
              "    }\n",
              "\n",
              "    .dataframe thead th {\n",
              "        text-align: right;\n",
              "    }\n",
              "</style>\n",
              "<table border=\"1\" class=\"dataframe\">\n",
              "  <thead>\n",
              "    <tr style=\"text-align: right;\">\n",
              "      <th></th>\n",
              "      <th>User</th>\n",
              "      <th>Latitude</th>\n",
              "      <th>Longitude</th>\n",
              "      <th>Location id</th>\n",
              "    </tr>\n",
              "  </thead>\n",
              "  <tbody>\n",
              "    <tr>\n",
              "      <th>0</th>\n",
              "      <td>0</td>\n",
              "      <td>30.235909</td>\n",
              "      <td>-97.795140</td>\n",
              "      <td>22847</td>\n",
              "    </tr>\n",
              "    <tr>\n",
              "      <th>1</th>\n",
              "      <td>0</td>\n",
              "      <td>30.269103</td>\n",
              "      <td>-97.749395</td>\n",
              "      <td>420315</td>\n",
              "    </tr>\n",
              "    <tr>\n",
              "      <th>2</th>\n",
              "      <td>0</td>\n",
              "      <td>30.255731</td>\n",
              "      <td>-97.763386</td>\n",
              "      <td>316637</td>\n",
              "    </tr>\n",
              "    <tr>\n",
              "      <th>3</th>\n",
              "      <td>0</td>\n",
              "      <td>30.263418</td>\n",
              "      <td>-97.757597</td>\n",
              "      <td>16516</td>\n",
              "    </tr>\n",
              "    <tr>\n",
              "      <th>4</th>\n",
              "      <td>0</td>\n",
              "      <td>30.274292</td>\n",
              "      <td>-97.740523</td>\n",
              "      <td>5535878</td>\n",
              "    </tr>\n",
              "    <tr>\n",
              "      <th>...</th>\n",
              "      <td>...</td>\n",
              "      <td>...</td>\n",
              "      <td>...</td>\n",
              "      <td>...</td>\n",
              "    </tr>\n",
              "    <tr>\n",
              "      <th>6442859</th>\n",
              "      <td>196577</td>\n",
              "      <td>51.521618</td>\n",
              "      <td>-0.148219</td>\n",
              "      <td>1111497</td>\n",
              "    </tr>\n",
              "    <tr>\n",
              "      <th>6442860</th>\n",
              "      <td>196577</td>\n",
              "      <td>51.883750</td>\n",
              "      <td>-1.757373</td>\n",
              "      <td>1044625</td>\n",
              "    </tr>\n",
              "    <tr>\n",
              "      <th>6442861</th>\n",
              "      <td>196577</td>\n",
              "      <td>51.917208</td>\n",
              "      <td>-0.660990</td>\n",
              "      <td>845387</td>\n",
              "    </tr>\n",
              "    <tr>\n",
              "      <th>6442865</th>\n",
              "      <td>196578</td>\n",
              "      <td>51.712110</td>\n",
              "      <td>-0.050458</td>\n",
              "      <td>1341442</td>\n",
              "    </tr>\n",
              "    <tr>\n",
              "      <th>6442891</th>\n",
              "      <td>196585</td>\n",
              "      <td>50.027812</td>\n",
              "      <td>8.785098</td>\n",
              "      <td>4555073</td>\n",
              "    </tr>\n",
              "  </tbody>\n",
              "</table>\n",
              "<p>1280969 rows × 4 columns</p>\n",
              "</div>"
            ],
            "text/plain": [
              "           User   Latitude  Longitude  Location id\n",
              "0             0  30.235909 -97.795140        22847\n",
              "1             0  30.269103 -97.749395       420315\n",
              "2             0  30.255731 -97.763386       316637\n",
              "3             0  30.263418 -97.757597        16516\n",
              "4             0  30.274292 -97.740523      5535878\n",
              "...         ...        ...        ...          ...\n",
              "6442859  196577  51.521618  -0.148219      1111497\n",
              "6442860  196577  51.883750  -1.757373      1044625\n",
              "6442861  196577  51.917208  -0.660990       845387\n",
              "6442865  196578  51.712110  -0.050458      1341442\n",
              "6442891  196585  50.027812   8.785098      4555073\n",
              "\n",
              "[1280969 rows x 4 columns]"
            ]
          },
          "metadata": {
            "tags": []
          },
          "execution_count": 64
        }
      ]
    },
    {
      "cell_type": "code",
      "metadata": {
        "id": "rdEn74I0efas"
      },
      "source": [
        "from sklearn import datasets\n",
        "from sklearn.model_selection import train_test_split\n",
        "df = df.sample(n=1000)\n",
        "X, y = df[[\"User\",\"Latitude\",\"Longitude\"]], df[\"Location id\"]\n",
        "X_train, X_test, y_train, y_test = train_test_split(X, y, test_size=0.33, random_state=1)"
      ],
      "execution_count": 65,
      "outputs": []
    },
    {
      "cell_type": "code",
      "metadata": {
        "colab": {
          "base_uri": "https://localhost:8080/"
        },
        "id": "XCB3utUl1Kt8",
        "outputId": "b5063ba9-db91-48db-de26-175c96e156e8"
      },
      "source": [
        "!pip install diffprivlib"
      ],
      "execution_count": 50,
      "outputs": [
        {
          "output_type": "stream",
          "text": [
            "Requirement already satisfied: diffprivlib in /usr/local/lib/python3.7/dist-packages (0.4.1)\n",
            "Requirement already satisfied: scipy>=1.2.1 in /usr/local/lib/python3.7/dist-packages (from diffprivlib) (1.4.1)\n",
            "Requirement already satisfied: setuptools>=39.0.1 in /usr/local/lib/python3.7/dist-packages (from diffprivlib) (57.0.0)\n",
            "Requirement already satisfied: numpy>=1.17.0 in /usr/local/lib/python3.7/dist-packages (from diffprivlib) (1.19.5)\n",
            "Requirement already satisfied: scikit-learn>=0.22.0 in /usr/local/lib/python3.7/dist-packages (from diffprivlib) (0.22.2.post1)\n",
            "Requirement already satisfied: joblib>=0.11 in /usr/local/lib/python3.7/dist-packages (from diffprivlib) (1.0.1)\n"
          ],
          "name": "stdout"
        }
      ]
    },
    {
      "cell_type": "code",
      "metadata": {
        "colab": {
          "base_uri": "https://localhost:8080/"
        },
        "id": "CpKFf4AMgQiE",
        "outputId": "f2abac63-5510-4503-ad5a-d64c5ceb7fc6"
      },
      "source": [
        "from diffprivlib.models import GaussianNB\n",
        "clf1 = GaussianNB(epsilon=3)\n",
        "clf1.fit(X_train, y_train)\n",
        "clf1.predict(X_test)"
      ],
      "execution_count": 76,
      "outputs": [
        {
          "output_type": "stream",
          "text": [
            "/usr/local/lib/python3.7/dist-packages/diffprivlib/models/naive_bayes.py:102: PrivacyLeakWarning: Bounds have not been specified and will be calculated on the data provided. This will result in additional privacy leakage. To ensure differential privacy and no additional privacy leakage, specify bounds for each dimension.\n",
            "  \"privacy leakage, specify bounds for each dimension.\", PrivacyLeakWarning)\n"
          ],
          "name": "stderr"
        },
        {
          "output_type": "execute_result",
          "data": {
            "text/plain": [
              "array([1400308,  845624,  778136, 1400308, 1603198,  778136, 1400308,\n",
              "        845624,  778136,  845624,  845624, 1400308, 1603198, 1603198,\n",
              "        845624,  845624,  778136,  845624,  845624,  778136,  416590,\n",
              "        845624,  845624,  845624,  746295,  845624,  845624,  778136,\n",
              "        845624,  845624,  778136, 1400308, 1154064, 1400308,  778136,\n",
              "        845624, 1603198, 1400308, 1400308,  845624,  778136, 1400308,\n",
              "        845624, 1514989,  137568, 1400308, 1603198, 1400308,  845624,\n",
              "        845624, 1254731,  845624,  845624,  778136,  255867,  845624,\n",
              "       1400308, 1400308, 1400308,  845624, 1091525, 1603198,  845624,\n",
              "        603538,  845624,  845624,  857895, 1400308, 1603198, 1400308,\n",
              "        242600,  845624,  603538, 1603198,  845624,  778136,  242600,\n",
              "        416590,  845624, 1603198,  778136,  845624, 1603198,  568007,\n",
              "        845624,  778136,  845624,  845624,  845624,  778136,  845624,\n",
              "       1400308,  845624, 1179893,  845624,  845624,  845624,  845624,\n",
              "        255867, 1400308, 1400308,  845624,  778136,  845624,  778136,\n",
              "       1400308, 1603198,  845624,  845624,  845624,  845624, 1400308,\n",
              "        845624, 1400308, 1400308,  845624, 1514989,  416590, 1254731,\n",
              "       1400308, 1400308, 1400308, 1400308, 1400308,  845624,  704850,\n",
              "        778136,  564706,  845624,  845624,  845624,  845624,  845624,\n",
              "       1400308,  845624,  845624,  845624, 1179893, 1400308, 1179893,\n",
              "       1350633,  845624,  778136, 2135665,  778136,  845624,  704850,\n",
              "        845624, 1400308,  416590,  845624,  778136,  778136, 1400308,\n",
              "        255867,  778136,  845624,  778136,  778136,  778136,  845624,\n",
              "        778136,  704850,  845624,  845624, 1400308, 1603198,  845624,\n",
              "        845624, 1603198,  845624,  778136,  845624, 1603198, 1514989,\n",
              "        845624,  778136,  845624,  845624, 1400308,  137568,  704850,\n",
              "        845624, 1603198, 1400308, 1400308,  778136, 1254731,  845624,\n",
              "        778136, 1254731,  603538,  845624,  845624,  845624, 1400308,\n",
              "       1514989, 1400308,  746295, 4697282,  778136, 1603198,  704850,\n",
              "       1179893, 1400308, 1400308,  845624,  845624,  704850,  845624,\n",
              "       1603198,  255867,  845624,  778136,  845624,  778136,  255867,\n",
              "       1400308,  778136,  872894, 1400308,  416590, 1154064,  845624,\n",
              "       1400308,  845624, 1400308,  255867,  845624,  255867,  845624,\n",
              "        845624,  845624,  704850,  845624, 4655689,  778136,  845624,\n",
              "        845624, 1400308,  845624, 1400308, 1603198,  845624, 1562396,\n",
              "        778136,  778136,  867877, 1400308,  845624,  845624,  845624,\n",
              "       1179893, 1603198,  778136,  242600,  845624,  778136,  845624,\n",
              "       1179893,  845624,  845624,  778136,  845624, 2135665,  845624,\n",
              "        845624, 1400308,  778136,  845624,  845624, 1154064, 1400308,\n",
              "        845624,  137568,  845624,  778136,  845624, 1154064,  845624,\n",
              "        704850,  416590,  845624, 1400308,  242600, 1179893,  778136,\n",
              "       1400308,  845624,  845624,  778136,  845624,  845624, 1400308,\n",
              "        778136,  845624, 1400308, 1254731,  845624,  242600, 1400308,\n",
              "        845624,  778136, 1254731,  778136,  845624,  845624,  845624,\n",
              "        845624,  845624, 1400308,  603538, 1400308,  778136, 1603198,\n",
              "        845624,  603538,  778136,  845624,  778136, 1400308,  778136,\n",
              "        778136,  845624,  822003,  704850,  603538,  388568,  778136,\n",
              "       1562396])"
            ]
          },
          "metadata": {
            "tags": []
          },
          "execution_count": 76
        }
      ]
    },
    {
      "cell_type": "code",
      "metadata": {
        "colab": {
          "base_uri": "https://localhost:8080/"
        },
        "id": "gzZR8fYNM2LD",
        "outputId": "12c0e2a8-8c5a-4b88-dcad-0fc78a0d256f"
      },
      "source": [
        "from diffprivlib.models import LogisticRegression\n",
        "clf2 = LogisticRegression(epsilon=3)\n",
        "clf2.fit(X_train, y_train)\n",
        "clf2.predict(X_test)"
      ],
      "execution_count": 70,
      "outputs": [
        {
          "output_type": "stream",
          "text": [
            "/usr/local/lib/python3.7/dist-packages/diffprivlib/models/logistic_regression.py:223: PrivacyLeakWarning: Data norm has not been specified and will be calculated on the data provided.  This will result in additional privacy leakage. To ensure differential privacy and no additional privacy leakage, specify `data_norm` at initialisation.\n",
            "  \"privacy leakage, specify `data_norm` at initialisation.\", PrivacyLeakWarning)\n"
          ],
          "name": "stderr"
        },
        {
          "output_type": "execute_result",
          "data": {
            "text/plain": [
              "array([ 965653,  965653,  965653,  965653,  965653,  965653,  965653,\n",
              "        965653,  965653,  965653,  937775,  965653,  965653,  965653,\n",
              "        965653,  965653,  987069,  965653,  937775,  965653,  965653,\n",
              "        965653,  937775,  965653, 1153600,  965653,  965653,  965653,\n",
              "        965653,  965653,  965653,  965653,  965653,  965653,  965653,\n",
              "        937775,  965653,  965653,  965653,  965653,  965653,  965653,\n",
              "        965653,  965653,  965653,  965653,  965653,  965653,  965653,\n",
              "        965653,  965653,  965653,  965653,  987069,  965653,  965653,\n",
              "        965653,  965653,  965653,  965653,  965653,  965653,  965653,\n",
              "        965653,  965653,  965653,  965653,  965653,  965653,  965653,\n",
              "        965653,  965653,  965653,  965653,  965653,  965653,  965653,\n",
              "        965653,  965653,  965653,  965653,  965653,  965653,  965653,\n",
              "        965653,  987069,  965653,  965653,  965653,  965653,  937775,\n",
              "        965653,  987069,  965653,  937775,  965653,  937775,  987069,\n",
              "        965653,  965653,  965653,  965653,  965653,  965653,  987069,\n",
              "        965653,  965653,  965653,  937775,  965653,  793052,  965653,\n",
              "        965653,  965653,  965653,  965653,  965653,  965653,  965653,\n",
              "        965653,  965653,  965653,  965653,  965653,  965653,  965653,\n",
              "        965653,  965653,  965653,  965653,  965653,  965653,  965653,\n",
              "        965653,  965653,  965653,  937775,  965653,  965653,  965653,\n",
              "        965653,  965653,  965653,  965653,  987069,  937775,  965653,\n",
              "        965653,  965653,  965653,  965653,  987069,  965653,  965653,\n",
              "        965653,  965653,  965653,  987069,  965653,  965653,  937775,\n",
              "        965653,  965653,  937775,  965653,  965653,  965653,  965653,\n",
              "        965653,  965653,  965653,  965653,  937775,  965653,  965653,\n",
              "        965653,  965653,  965653,  937775,  965653,  965653,  965653,\n",
              "        965653,  965653,  965653,  965653,  965653,  965653,  965653,\n",
              "        965653,  965653,  965653,  937775,  965653,  965653,  965653,\n",
              "        965653,  965653,  965653,  965653,  965653,  965653,  965653,\n",
              "        965653,  965653,  965653,  937775,  965653,  965653,  965653,\n",
              "        965653,  965653,  937775,  965653,  965653,  965653,  965653,\n",
              "        965653,  965653,  965653,  965653,  965653,  965653,  965653,\n",
              "        965653,  937775,  965653,  965653,  965653,  965653,  965653,\n",
              "        965653,  965653,  965653,  965653,  965653,  987069,  937775,\n",
              "        965653,  965653,  965653,  965653,  965653,  937775,  965653,\n",
              "        987069,  965653,  965653,  965653,  965653,  965653,  937775,\n",
              "        965653,  965653,  965653,  965653,  937775,  965653,  937775,\n",
              "        965653,  937775,  937775,  965653,  937775,  965653,  965653,\n",
              "        965653,  965653,  965653,  965653,  937775,  965653,  965653,\n",
              "        937775,  965653, 1153600,  965653,  965653,  965653,  965653,\n",
              "        965653,  965653,  965653,  965653,  965653,  965653,  987069,\n",
              "        965653,  937775,  965653,  965653,  965653,  965653,  965653,\n",
              "        965653,  965653,  965653,  965653,  965653,  965653,  965653,\n",
              "        965653,  965653,  965653,  965653,  965653,  937775,  937775,\n",
              "        965653,  965653,  965653,  965653,  965653,  965653,  965653,\n",
              "        965653,  965653,  965653,  965653,  965653,  965653,  965653,\n",
              "        965653,  965653,  965653,  965653,  965653,  965653,  965653,\n",
              "        965653])"
            ]
          },
          "metadata": {
            "tags": []
          },
          "execution_count": 70
        }
      ]
    },
    {
      "cell_type": "code",
      "metadata": {
        "colab": {
          "base_uri": "https://localhost:8080/"
        },
        "id": "rx17y-sKNOPD",
        "outputId": "54d84a19-3771-488a-ab43-f2c2ef73de33"
      },
      "source": [
        "from diffprivlib.models import KMeans\n",
        "clf3 = KMeans(epsilon=3)\n",
        "clf3.fit(X_train, y_train)\n",
        "clf3.predict(X_test)"
      ],
      "execution_count": 71,
      "outputs": [
        {
          "output_type": "stream",
          "text": [
            "/usr/local/lib/python3.7/dist-packages/diffprivlib/models/k_means.py:131: PrivacyLeakWarning: Bounds have not been specified and will be calculated on the data provided.  This will result in additional privacy leakage. To ensure differential privacy and no additional privacy leakage, specify `bounds` for each dimension.\n",
            "  \"privacy leakage, specify `bounds` for each dimension.\", PrivacyLeakWarning)\n"
          ],
          "name": "stderr"
        },
        {
          "output_type": "execute_result",
          "data": {
            "text/plain": [
              "array([7, 0, 3, 4, 2, 0, 4, 3, 3, 3, 0, 4, 2, 7, 0, 0, 0, 0, 0, 7, 3, 3,\n",
              "       0, 0, 0, 3, 3, 4, 0, 0, 4, 3, 2, 4, 0, 0, 2, 4, 4, 0, 3, 4, 0, 6,\n",
              "       6, 4, 2, 4, 0, 3, 3, 3, 0, 0, 5, 3, 4, 4, 7, 0, 6, 2, 0, 2, 0, 0,\n",
              "       1, 4, 2, 4, 4, 0, 6, 2, 0, 4, 7, 4, 0, 6, 0, 0, 7, 7, 0, 0, 0, 0,\n",
              "       0, 4, 0, 4, 0, 4, 0, 0, 0, 0, 2, 4, 4, 0, 3, 0, 0, 4, 2, 0, 0, 0,\n",
              "       0, 3, 0, 4, 3, 0, 6, 2, 3, 4, 4, 4, 4, 4, 0, 2, 0, 3, 0, 0, 0, 3,\n",
              "       0, 7, 0, 0, 0, 2, 4, 7, 0, 0, 3, 2, 0, 0, 5, 3, 4, 4, 0, 0, 3, 3,\n",
              "       5, 4, 0, 0, 7, 4, 0, 3, 2, 0, 0, 4, 2, 0, 3, 2, 3, 0, 0, 5, 6, 0,\n",
              "       0, 0, 0, 4, 6, 2, 0, 1, 4, 4, 3, 3, 0, 0, 3, 5, 0, 0, 0, 4, 6, 4,\n",
              "       3, 1, 0, 2, 2, 4, 4, 4, 0, 3, 2, 3, 6, 1, 0, 0, 0, 3, 1, 4, 0, 6,\n",
              "       4, 4, 7, 3, 4, 0, 4, 1, 0, 1, 0, 3, 0, 1, 3, 2, 0, 0, 0, 7, 0, 7,\n",
              "       2, 0, 7, 0, 3, 4, 4, 0, 0, 0, 4, 7, 0, 4, 0, 3, 0, 7, 0, 0, 3, 0,\n",
              "       7, 3, 0, 4, 3, 0, 0, 2, 7, 0, 6, 0, 3, 0, 2, 0, 2, 7, 3, 4, 7, 7,\n",
              "       0, 4, 0, 0, 0, 0, 0, 4, 3, 0, 4, 3, 0, 7, 4, 3, 3, 3, 3, 0, 0, 0,\n",
              "       0, 0, 3, 1, 4, 3, 2, 0, 1, 0, 0, 3, 4, 3, 0, 0, 2, 2, 2, 2, 3, 2],\n",
              "      dtype=int32)"
            ]
          },
          "metadata": {
            "tags": []
          },
          "execution_count": 71
        }
      ]
    }
  ]
}